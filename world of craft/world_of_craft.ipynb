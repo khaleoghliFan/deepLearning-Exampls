{
  "nbformat": 4,
  "nbformat_minor": 0,
  "metadata": {
    "colab": {
      "provenance": []
    },
    "kernelspec": {
      "name": "python3",
      "display_name": "Python 3"
    },
    "language_info": {
      "name": "python"
    }
  },
  "cells": [
    {
      "cell_type": "code",
      "execution_count": 1,
      "metadata": {
        "colab": {
          "base_uri": "https://localhost:8080/"
        },
        "id": "aNo3ZkaSgQQM",
        "outputId": "e50b900d-e3d8-4459-8fca-a5a1a0ebfc60"
      },
      "outputs": [
        {
          "output_type": "stream",
          "name": "stdout",
          "text": [
            " Accuracy: 0.665\n",
            "\n",
            " Confusion Matrix:\n",
            " [[129   6]\n",
            " [ 61   4]]\n",
            "\n",
            " Classification Report:\n",
            "               precision    recall  f1-score   support\n",
            "\n",
            "           0       0.68      0.96      0.79       135\n",
            "           1       0.40      0.06      0.11        65\n",
            "\n",
            "    accuracy                           0.67       200\n",
            "   macro avg       0.54      0.51      0.45       200\n",
            "weighted avg       0.59      0.67      0.57       200\n",
            "\n"
          ]
        }
      ],
      "source": [
        "import pandas as pd\n",
        "import numpy as np\n",
        "from sklearn.model_selection import train_test_split\n",
        "from sklearn.preprocessing import LabelEncoder, StandardScaler\n",
        "from sklearn.ensemble import RandomForestClassifier\n",
        "from sklearn.metrics import classification_report, confusion_matrix, accuracy_score\n",
        "from sklearn.utils.class_weight import compute_class_weight\n",
        "\n",
        "# بارگذاری داده‌ها\n",
        "df = pd.read_csv(\"wow_combat_dataset.csv\")\n",
        "\n",
        "# تبدیل ویژگی‌های متنی به عددی\n",
        "le_time = LabelEncoder()\n",
        "le_region = LabelEncoder()\n",
        "\n",
        "df['time_of_day'] = le_time.fit_transform(df['time_of_day'])\n",
        "df['region_type'] = le_region.fit_transform(df['region_type'])\n",
        "\n",
        "# تفکیک ویژگی‌ها و برچسب\n",
        "X = df.drop('combat_event', axis=1)\n",
        "y = df['combat_event']\n",
        "\n",
        "# نرمال‌سازی ویژگی‌ها\n",
        "scaler = StandardScaler()\n",
        "X_scaled = scaler.fit_transform(X)\n",
        "\n",
        "\n",
        "X_train, X_test, y_train, y_test = train_test_split(X_scaled, y, test_size=0.2, random_state=42)\n",
        "\n",
        "class_weights = compute_class_weight(class_weight='balanced', classes=np.unique(y_train), y=y_train)\n",
        "class_weights = dict(enumerate(class_weights))\n",
        "\n",
        "model = RandomForestClassifier(n_estimators=100, random_state=42, class_weight=class_weights)\n",
        "model.fit(X_train, y_train)\n",
        "\n",
        "y_pred = model.predict(X_test)\n",
        "\n",
        "accuracy = accuracy_score(y_test, y_pred)\n",
        "conf_matrix = confusion_matrix(y_test, y_pred)\n",
        "report = classification_report(y_test, y_pred)\n",
        "\n",
        "print(\" Accuracy:\", accuracy)\n",
        "print(\"\\n Confusion Matrix:\\n\", conf_matrix)\n",
        "print(\"\\n Classification Report:\\n\", report)\n"
      ]
    }
  ]
}